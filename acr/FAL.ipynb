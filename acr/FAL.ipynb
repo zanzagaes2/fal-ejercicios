{
 "cells": [
  {
   "cell_type": "code",
   "execution_count": 498,
   "metadata": {},
   "outputs": [],
   "source": [
    "import matplotlib\n",
    "import matplotlib.pyplot as plt\n",
    "import pandas as pd\n",
    "df = pd.read_csv(\"out.out\", sep = \" \", names=[\"data1\"], index_col=0)\n",
    "df2 = pd.read_csv(\"Inglaterra.txt\", sep = '\t', names=[\"data2\"], index_col=0)\n",
    "df3 = pd.read_csv(\"out2.out\", sep = \" \", names=[\"data3\"], index_col=0)\n",
    "df4 = pd.read_csv(\"out3.out\", sep = \" \", names=[\"data4\"], index_col=0)\n",
    "\n",
    "\n",
    "df = df[0:630:10]"
   ]
  },
  {
   "cell_type": "code",
   "execution_count": 499,
   "metadata": {},
   "outputs": [],
   "source": [
    "df[\"data2\"] = df2.data2*10\n",
    "df[\"data3\"] = df3.data3\n",
    "df[\"data4\"] = df4.data4 * (df3.data3-df4.data4)"
   ]
  },
  {
   "cell_type": "code",
   "execution_count": 504,
   "metadata": {},
   "outputs": [
    {
     "name": "stderr",
     "output_type": "stream",
     "text": [
      "/Users/alvaro/anaconda3/lib/python3.6/site-packages/matplotlib/font_manager.py:1316: UserWarning: findfont: Font family ['normal'] not found. Falling back to DejaVu Sans\n",
      "  (prop.get_family(), self.defaultFamily[fontext]))\n"
     ]
    }
   ],
   "source": [
    "matplotlib.rc('xtick', labelsize=20) \n",
    "matplotlib.rc('ytick', labelsize=20) \n",
    "font = {'family' : 'normal',\n",
    "        'weight' : 'normal',\n",
    "        'size'   : 22}\n",
    "\n",
    "matplotlib.rc('font', **font)\n",
    "\n",
    "ax = df.plot.line(y=\"data2\", figsize=(30,30), label=\"Algoritmo A\")\n",
    "df.plot.line(ax=ax, y=\"data3\", figsize=(30,30), label=\"Algoritmo B\")\n",
    "\n",
    "\n",
    "ax.set_yscale(\"log\")\n",
    "\n",
    "\n",
    "df.plot.line(ax=ax, y=\"data1\", figsize=(30,30), label=\"Algoritmo C\")\n",
    "df.plot.line(ax=ax, y=\"data4\", figsize=(30,30), label=\"Algoritmo D\")\n",
    "\n",
    "\n",
    "ax.set_xlabel(\"Dato de entrada\")\n",
    "ax.set_ylabel(\"Tiempo de ejecución\")\n",
    "\n",
    "\n",
    "#ax.yaxis.label.set_size(50)\n",
    "ax.set_title(\"Comparación de algoritmos (escala logarítmica)\", size=32)\n",
    "ax.spines['right'].set_visible(False)\n",
    "ax.spines['top'].set_visible(False)\n",
    "ax.xaxis.set_ticks_position('bottom')\n",
    "ax.yaxis.set_ticks_position('left')\n",
    "#plt.show()\n",
    "plt.savefig(\"/Users/alvaro/fal\")"
   ]
  },
  {
   "cell_type": "code",
   "execution_count": 347,
   "metadata": {},
   "outputs": [
    {
     "name": "stdout",
     "output_type": "stream",
     "text": [
      "Help on method line in module pandas.plotting._core:\n",
      "\n",
      "line(x=None, y=None, **kwds) method of pandas.plotting._core.FramePlotMethods instance\n",
      "    Line plot\n",
      "    \n",
      "    .. versionadded:: 0.17.0\n",
      "    \n",
      "    Parameters\n",
      "    ----------\n",
      "    x, y : label or position, optional\n",
      "        Coordinates for each point.\n",
      "    **kwds : optional\n",
      "        Keyword arguments to pass on to :py:meth:`pandas.DataFrame.plot`.\n",
      "    \n",
      "    Returns\n",
      "    -------\n",
      "    axes : matplotlib.AxesSubplot or np.array of them\n",
      "\n"
     ]
    }
   ],
   "source": [
    "help(df.plot.line)"
   ]
  },
  {
   "cell_type": "code",
   "execution_count": null,
   "metadata": {
    "collapsed": true
   },
   "outputs": [],
   "source": []
  }
 ],
 "metadata": {
  "kernelspec": {
   "display_name": "Python 3",
   "language": "python",
   "name": "python3"
  },
  "language_info": {
   "codemirror_mode": {
    "name": "ipython",
    "version": 3
   },
   "file_extension": ".py",
   "mimetype": "text/x-python",
   "name": "python",
   "nbconvert_exporter": "python",
   "pygments_lexer": "ipython3",
   "version": "3.6.3"
  }
 },
 "nbformat": 4,
 "nbformat_minor": 2
}
